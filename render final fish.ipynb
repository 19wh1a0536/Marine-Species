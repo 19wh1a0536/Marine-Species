{
 "cells": [
  {
   "cell_type": "code",
   "execution_count": 109,
   "id": "902aedd1",
   "metadata": {},
   "outputs": [],
   "source": [
    "import pandas as pd"
   ]
  },
  {
   "cell_type": "code",
   "execution_count": 110,
   "id": "a295cb6e",
   "metadata": {},
   "outputs": [],
   "source": [
    "from jinja2 import Template"
   ]
  },
  {
   "cell_type": "code",
   "execution_count": 152,
   "id": "1aa4e575",
   "metadata": {},
   "outputs": [
    {
     "name": "stdout",
     "output_type": "stream",
     "text": [
      "                                           Etymo_tel                  S_name  \\\n",
      "0  అబోరిచ్తిస్ః గ్రీకు, a + గ్రీకు, బోరోస్, -a, -...   అబారిచ్తులు పొడిగింపు   \n",
      "1  అబోరిచ్తిస్ః గ్రీకు, a + గ్రీకు, బోరోస్, -a, -...  అబోరిచ్ట్స్ గారోనెసిస్   \n",
      "2  అబోరిచ్తిస్ః గ్రీకు, a + గ్రీకు, బోరోస్, -a, -...       అబారిచ్తీస్ కెంపి   \n",
      "3  అబోరిచ్తిస్ః గ్రీకు, a + గ్రీకు, బోరోస్, -a, -...    అబారిచ్తులు తికాడేరి   \n",
      "4  అబుడెఫ్ఫః అరబిక్, అబు = తండ్రి, ఈ చేప ఇతర జాతు...     అబ్డెఫ్డఫ్ కాంకోలర్   \n",
      "\n",
      "  Kingdom_tel Phylum_tel Subphylum_tel Infraphylum_tel Parvphylum_tel  \\\n",
      "0    యానిమియా    చోర్డటా   వెర్టెబ్రాట   గ్నాథోత్సోమాట  ఒస్తీచ్త్యులు   \n",
      "1    యానిమియా    చోర్డటా   వెర్టెబ్రాట   గ్నాథోత్సోమాట  ఒస్తీచ్త్యులు   \n",
      "2    యానిమియా    చోర్డటా   వెర్టెబ్రాట   గ్నాథోత్సోమాట  ఒస్తీచ్త్యులు   \n",
      "3    యానిమియా    చోర్డటా   వెర్టెబ్రాట   గ్నాథోత్సోమాట  ఒస్తీచ్త్యులు   \n",
      "4    యానిమియా    చోర్డటా   వెర్టెబ్రాట   గ్నాథోత్సోమాట  ఒస్తీచ్త్యులు   \n",
      "\n",
      "      Gigaclass_tel     Class_tel Subclass_tel  ...  \\\n",
      "0  యాక్టినోపెట్రిగై  యాక్టినోపెటి     టెలోస్టీ  ...   \n",
      "1  యాక్టినోపెట్రిగై  యాక్టినోపెటి     టెలోస్టీ  ...   \n",
      "2  యాక్టినోపెట్రిగై  యాక్టినోపెటి     టెలోస్టీ  ...   \n",
      "3  యాక్టినోపెట్రిగై  యాక్టినోపెటి     టెలోస్టీ  ...   \n",
      "4  యాక్టినోపెట్రిగై  యాక్టినోపెటి     టెలోస్టీ  ...   \n",
      "\n",
      "                                           Anal_rays Vertebrae_tel  \\\n",
      "0                                                NaN           NaN   \n",
      "1                                                NaN           NaN   \n",
      "2  7. కింది పాత్రల ద్వారా దాని కంజెనర్స్ నుండి వి...           NaN   \n",
      "3                                                NaN           NaN   \n",
      "4  10 - 12. రంగు ముదురు గోధుమ, తేలికైన వెంట్రాలీ...           NaN   \n",
      "\n",
      "   Author_tel Max_length Common_length Weight_tel Age_tel  Depth_range  \\\n",
      "0   హోరా 1921        NaN           NaN        NaN     NaN          NaN   \n",
      "1   హోరా 1925        NaN           NaN        NaN     NaN          NaN   \n",
      "2       చౌదరి        NaN           NaN        NaN     NaN          NaN   \n",
      "3    బార్మాన్        NaN           NaN        NaN     NaN          NaN   \n",
      "4     గిల్ 62        NaN           NaN        NaN     NaN     0 - 12 m   \n",
      "\n",
      "           Distribution_range                  Environment_tel  \n",
      "0                         NaN              మంచినీరు, డీమెర్సల్  \n",
      "1                         NaN              మంచినీరు, డీమెర్సల్  \n",
      "2                         NaN              మంచినీరు, డీమెర్సల్  \n",
      "3                         NaN              మంచినీరు, డీమెర్సల్  \n",
      "4  27 N - 753S, 113°W - 6.45W  మెరైన్, రీఫ్-సంబంధిత, వలస లేని,  \n",
      "\n",
      "[5 rows x 73 columns]\n"
     ]
    }
   ],
   "source": [
    "df = pd.read_csv(\"sample1.csv\")\n",
    "print(df)"
   ]
  },
  {
   "cell_type": "code",
   "execution_count": 153,
   "id": "01af3179",
   "metadata": {},
   "outputs": [],
   "source": [
    "def getData(row):\n",
    "    data = {\n",
    "        'Etymo_tel':str(row['Etymo_tel']),\n",
    "        'S_name':str(row['S_name']),\n",
    "        'N_name':str(row['N_name']),\n",
    "        'Distribute_tel':str(row['Distribute_tel']),\n",
    "        'Threats_tel':str(row['Threats_tel']),\n",
    "        'Pd_index':str(row['Pd_index']),\n",
    "        'Lt_wt':str(row['Lt_wt']),\n",
    "        'Trophic_tel':str(row['Trophic_tel']),\n",
    "        'Generate_time':str(row['Generate_time']),\n",
    "        'Resili_tel':str(row['Resili_tel']),\n",
    "        'Prior_tel':str(row['Prior_tel']),\n",
    "        'Fishing_vulnerability':str(row['Fishing_vulnerability']),\n",
    "        'Climate_vulnerability':str(row['Climate_vulnerability']),\n",
    "        'Price_category':str(row['Price_category']),\n",
    "        'Feeding_type':str(row['Feeding_type']),\n",
    "        'Feeding_habit':str(row['Feeding_habit']),\n",
    "        'Main_food':str(row['Main_food']),\n",
    "        \n",
    "        'Striking_features':str(row['Striking_features']),\n",
    "        'Body_lateral':str(row['Body_lateral']),\n",
    "        'Cross_section':str(row['Cross_section']),\n",
    "        'Dorsal_head':str(row['Dorsal_head']),\n",
    "        'Eyes_type':str(row['Eyes_type']),\n",
    "        'Mouth_type':str(row['Mouth_type']),\n",
    "        'Mouth_position':str(row['Mouth_position']),\n",
    "        'Calcium_median':str(row['Calcium_median']),\n",
    "        'Calcium_lower':str(row['Calcium_lower']),\n",
    "        'Calcium_upperer':str(row['Calcium_upperer']),\n",
    "        'Iron_median':str(row['Iron_median']),\n",
    "        'Iron_lower':str(row['Iron_lower']),\n",
    "        'Iron_upperer':str(row['Iron_upperer']),\n",
    "        'Selenium_median':str(row['Selenium_median']),\n",
    "        'Selenium_lower':str(row['Selenium_lower']),\n",
    "        'Selenium_upperer':str(row['Selenium_upperer']),\n",
    "        'Zinc_median':str(row['Zinc_median']),\n",
    "        \n",
    "        'Zinc_lower':str(row['Zinc_lower']),\n",
    "        'Zinc_upperer':str(row['Zinc_upperer']),\n",
    "        'Vitamin_a_median':str(row['Vitamin_a_median']),\n",
    "        'Vitamin_a_lower':str(row['Vitamin_a_lower']),\n",
    "        'Vitamin_a_upperer':str(row['Vitamin_a_upperer']),\n",
    "        'Omega_median':str(row['Omega_median']),\n",
    "        'Omega_lower':str(row['Omega_lower']),\n",
    "        'Omega_upperer':str(row['Omega_upperer']),\n",
    "        'Protein_median':str(row['Protein_median']),\n",
    "        'Protein_lower':str(row['Protein_lower']),\n",
    "        'Protein_upperer':str(row['Protein_upperer']),\n",
    "        'Kingdom_tel':str(row['Kingdom_tel']),\n",
    "        'Phylum_tel':str(row['Phylum_tel']),\n",
    "        'Subphylum_tel':str(row['Subphylum_tel']),\n",
    "        'Infraphylum_tel':str(row['Infraphylum_tel']),\n",
    "        'Parvphylum_tel':str(row['Parvphylum_tel']),\n",
    "        'Gigaclass_tel':str(row['Gigaclass_tel']),\n",
    "        \n",
    "        'Class_tel':str(row['Class_tel']),\n",
    "        'Subclass_tel':str(row['Subclass_tel']),\n",
    "        'Order_tel':str(row['Order_tel']),\n",
    "        'Family_tel':str(row['Family_tel']),\n",
    "        'Subfamily_tel':str(row['Subfamily_tel']),\n",
    "        'Genus_tel':str(row['Genus_tel']),\n",
    "        'Species_tel':str(row['Species_tel']),\n",
    "        'Common_names':str(row['Common_names']),\n",
    "        \n",
    "        'Dorsal_spines':str(row['Dorsal_spines']),\n",
    "        'Dorsal_rays':str(row['Dorsal_rays']),\n",
    "        'Anal_spines':str(row['Anal_spines']),\n",
    "        'Anal_rays':str(row['Anal_rays']),\n",
    "        'Vertebrae_tel':str(row['Vertebrae_tel']),\n",
    "        'Author_tel':str(row['Author_tel']),\n",
    "        'Max_length':str(row['Max_length']),\n",
    "        'Common_length':str(row['Common_length']),\n",
    "        \n",
    "        'Weight_tel':str(row['Weight_tel']),\n",
    "        'Age_tel':str(row['Age_tel']),\n",
    "        'Depth_range':str(row['Depth_range']),\n",
    "        'Distribution_range':str(row['Distribution_range']),\n",
    "        'Environment_tel':str(row['Environment_tel']),\n",
    "        \n",
    "    }\n",
    "    return data"
   ]
  },
  {
   "cell_type": "code",
   "execution_count": 185,
   "id": "b505bf1e",
   "metadata": {},
   "outputs": [],
   "source": [
    "def main():\n",
    "    with open(\"fish.j2\",encoding=\"utf8\") as f:\n",
    "        S_template = Template(f.read())\n",
    "    for i in range(1):\n",
    "        row = df.iloc[i]\n",
    "        #title = str(row['S_name']).strip()\n",
    "        #print('\\n', i, title,'\\n')\n",
    "        text = S_template.render(getData(row))\n",
    "        print(text)"
   ]
  },
  {
   "cell_type": "code",
   "execution_count": 186,
   "id": "6bb52fd7",
   "metadata": {},
   "outputs": [
    {
     "name": "stdout",
     "output_type": "stream",
     "text": [
      "{{Infobox fish\n",
      "| scientific_name= అబారిచ్తులు పొడిగింపు| kingdom  = యానిమియా| phylum = చోర్డటా| sub_phylum = వెర్టెబ్రాట| class=యాక్టినోపెటి| sub_class= టెలోస్టీ| order= కారాంగియా అస్పష్టత సెడిస్| family= పాలినెమిడే| genus= గలియోయిడ్స్| Species = గాలియోడియస్ డెకాక్టిలస్}}\n",
      "\n",
      "ఈ చేప యొక్క శాస్త్రీయ నామం అబారిచ్తులు పొడిగింపుఈ చేపకి ఉన్న సాధారణ పేర్లు ['అబ్రియే ప్రోతథ్లా', 'సేల్ అబారిట్రుల్ ', 'ల్ట్జమ్ అబాంబాగ్లీ', 'యుట్యూన్ అబాంబ్వేనియా' ఈ సాధారణ పేర్లు వివిధ ప్రదేశాలలో ఈ చేపలకు వాడుకలో ఉన్నవి.\n",
      "ఈ చేప మంచినీరు, డీమెర్సల్ పరిస్థితులలో పెరుగుతుంది.అబారిచ్తులు పొడిగింపుచేపల యొక్క వాతావరణ దుర్బలత్వం 100 లో 0 ఉంటుంది.\n",
      "ఈ చేప యొక్కశరీర ఆకృతిపొడిగించిన ఈ విధంగా ఉంటుంది. \n",
      "అబారిచ్తులు పొడిగింపుయొక్క పంపిణీ ఆసియాః డార్జిలింగ్, భారత్లోని పశ్చిమ బెంగాల్. ఈ ప్రదేశాలలో ఎక్కువగా నివసిస్తుంటాయి.\n",
      "అబారిచ్తులు పొడిగింపు చేప యొక్క రాజ్యం యానిమియా.ఈ చేపచోర్డటా అను భౌగోళికముకు చెందినది.ఈ చేప యొక్క సబ్ఫిలమ్ వెర్టెబ్రాట.ఈ చేప యొక్క ఇన్ఫ్రాఫిలమ్ గ్నాథోత్సోమాట.ఈ చేప యొక్క పార్వ్ఫిలమ్ ఒస్తీచ్త్యులు.ఈ చేప యాక్టినోపెట్రిగై అను గిగాక్లాస్ కి చెందినది. ఈ చేప యొక్క తరగతి యాక్టినోపెటి.టెలోస్టీఅను సబ్క్లాస్ కు చెందిన చేప ఇది.ఈ చేప యొక్కఆర్డర్ కారాంగియా అస్పష్టత సెడిస్.అబారిచ్తులు పొడిగింపుఈ చేప పాలినెమిడే అను కుటుంబానికి చెందినది.ఈ చేప గలియోయిడ్స్అను జాతికి చెందిన చేప.ఈ చేప గాలియోడియస్ డెకాక్టిలస్ అను జాతులులోఒకటి. \n",
      " \n",
      "తక్కువ దుర్బలత్వం 10 100 లో.100 లో 0 \n",
      "\n",
      "అబారిచ్తులు పొడిగింపు మానవులకు హానిచేయని.\n",
      "\n"
     ]
    }
   ],
   "source": [
    "main()"
   ]
  },
  {
   "cell_type": "code",
   "execution_count": null,
   "id": "db029fb4",
   "metadata": {},
   "outputs": [],
   "source": []
  }
 ],
 "metadata": {
  "kernelspec": {
   "display_name": "Python 3 (ipykernel)",
   "language": "python",
   "name": "python3"
  },
  "language_info": {
   "codemirror_mode": {
    "name": "ipython",
    "version": 3
   },
   "file_extension": ".py",
   "mimetype": "text/x-python",
   "name": "python",
   "nbconvert_exporter": "python",
   "pygments_lexer": "ipython3",
   "version": "3.7.11"
  },
  "vscode": {
   "interpreter": {
    "hash": "916dbcbb3f70747c44a77c7bcd40155683ae19c65e1c03b4aa3499c5328201f1"
   }
  }
 },
 "nbformat": 4,
 "nbformat_minor": 5
}
